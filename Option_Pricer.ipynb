{
 "cells": [
  {
   "cell_type": "code",
   "execution_count": null,
   "metadata": {},
   "outputs": [],
   "source": [
    "# Comprehensive Option Pricer\n",
    "# 3 Methods: Black Scholes, Binomial, and Monte Carlo"
   ]
  },
  {
   "cell_type": "code",
   "execution_count": 1,
   "metadata": {},
   "outputs": [],
   "source": [
    "# Packages\n",
    "\n",
    "import numpy as np\n",
    "import math \n",
    "from scipy.stats import norm\n",
    "import pandas as pd\n",
    "from random import random\n",
    "from statistics import mean\n"
   ]
  },
  {
   "cell_type": "code",
   "execution_count": 5,
   "metadata": {},
   "outputs": [
    {
     "name": "stdout",
     "output_type": "stream",
     "text": [
      "Put Price = $2.993\n",
      "Delta = -0.195\n",
      "Gamma = 0.011\n",
      "Theta = -1.127\n",
      "Vega = 33.791\n",
      "Rho = -33.774\n"
     ]
    },
    {
     "data": {
      "text/plain": [
       "(None, None, None, None, None, None)"
      ]
     },
     "execution_count": 5,
     "metadata": {},
     "output_type": "execute_result"
    }
   ],
   "source": [
    "# Black Scholes Call or Put Model with Greeks\n",
    "# DO IMPLIED VOLATILITY AND VOL SURFACE\n",
    "\n",
    "def BSM(S, K, T, Sigma, R, Type):\n",
    "\n",
    "    # Inputs\n",
    "    d1 = (np.log(S/K)+(R+((Sigma**2)/2))*T)/(Sigma*math.sqrt(T))\n",
    "    d2 = d1 - (Sigma*math.sqrt(T))\n",
    "\n",
    "    # For Call \n",
    "    if Type == \"Call\":    \n",
    "        C = norm.cdf(d1)*S - norm.cdf(d2)*K*math.exp(-R*T)\n",
    "\n",
    "    # Call Greeks\n",
    "        delta = norm.cdf(d1)\n",
    "        gamma = (math.exp((-d1**2)/2))/(S*Sigma*math.sqrt(2*math.pi*T))\n",
    "        theta = -R*K*math.exp(-R*T)*norm.cdf(d2) - Sigma*S*norm.pdf(d1)/(2*math.sqrt(T))\n",
    "        vega = S*norm.pdf(d1)*math.sqrt(T)\n",
    "        rho = K*T*math.exp(-R*T)*norm.cdf(d2)\n",
    "        return print(f\"Call Price = ${C:.3f}\"), print(f\"Delta = {delta:.3f}\"), print(f\"Gamma = {gamma:.3f}\"), print(f\"Theta = {theta:.3f}\"), print(f\"Vega = {vega:.3f}\"), print(f\"Rho = {rho:.3f}\")\n",
    "    \n",
    "    # For Put \n",
    "    elif Type == \"Put\":\n",
    "        P = -norm.cdf(-d1)*S + norm.cdf(-d2)*K*math.exp(-R*T)\n",
    "\n",
    "    # Put Greeks    \n",
    "        delta = -norm.cdf(-d1)\n",
    "        gamma = (math.exp((-d1**2)/2))/(S*Sigma*math.sqrt(2*math.pi*T))\n",
    "        theta = R*K*math.exp(-R*T)*norm.cdf(-d2) - Sigma*S*norm.pdf(d1)/(2*math.sqrt(T))\n",
    "        vega = S*norm.pdf(d1)*math.sqrt(T)\n",
    "        rho = -K*T*math.exp(-R*T)*norm.cdf(-d2)\n",
    "        return print(f\"Put Price = ${P:.3f}\"), print(f\"Delta = {delta:.3f}\"), print(f\"Gamma = {gamma:.3f}\"), print(f\"Theta = {theta:.3f}\"), print(f\"Vega = {vega:.3f}\"), print(f\"Rho = {rho:.3f}\")\n"
   ]
  },
  {
   "cell_type": "code",
   "execution_count": 6,
   "metadata": {},
   "outputs": [],
   "source": [
    "# Binomail Call or Put Tree\n",
    "# DO AMERICAN\n",
    "\n",
    "def BinT(U, D, S, K, R, T, Type):\n",
    "\n",
    "    # Creating Stock Tree\n",
    "    stock = np.zeros((T+1, T+1))\n",
    "    stock[0][0] = S\n",
    "    for j in range(T):    \n",
    "        for i in range(T): \n",
    "            if stock[i][j] != 0:\n",
    "                stock[i][j+1] = stock[i][j]*U\n",
    "                stock[i+1][j+1] = stock[i][j]*D\n",
    "\n",
    "    # Risk Neutral Probabilites            \n",
    "    P = (1+R-D)/(U-D)\n",
    "    Q = 1-P        \n",
    "    \n",
    "    # For Call, Terminal Payoffs\n",
    "    if Type == \"Call\":\n",
    "        for i in range(T+1):\n",
    "            stock[i][T] = max(stock[i][T]-K, 0)\n",
    "\n",
    "    # Working Backwards\n",
    "        for j in range(-1,-T-1, -1):    \n",
    "            for i in range(-1,-T-1, -1):                  \n",
    "                stock[i-1][j-1] = (1/(1+R))*(stock[i][j]*Q + stock[i-1][j]*P)\n",
    "        return print(stock[0][0])\n",
    "\n",
    "    # For Put, Terminal Payoffs\n",
    "    elif Type == \"Put\":\n",
    "        for i in range(T+1):\n",
    "            stock[i][T] = max(-stock[i][T]+K, 0)\n",
    "    \n",
    "    # Working Backwards\n",
    "        for j in range(-1,-T-1, -1):    \n",
    "            for i in range(-1,-T-1, -1):                  \n",
    "                stock[i-1][j-1] = (1/(1+R))*(stock[i][j]*Q + stock[i-1][j]*P)\n",
    "        return print(stock[0][0])\n"
   ]
  },
  {
   "cell_type": "code",
   "execution_count": 7,
   "metadata": {},
   "outputs": [],
   "source": [
    "# Monte Carlo Call or Put Simulation\n",
    "# DO VARIANCE REDUCTION AND AMERICAN\n",
    "\n",
    "def Sim(S, K, T, Sigma, R, Trials, Type):\n",
    "\n",
    "    # Creating Dataframe\n",
    "    sim_table = np.zeros((Trials-1, 3))\n",
    "    df = pd.DataFrame(data = sim_table, columns = [\"Stock Price\", \"Call\", \"Put\"])\n",
    "\n",
    "    # Generating Stock Prices and Evaluating Call and Put Payoffs at Expiration\n",
    "    for i in range(Trials-1):\n",
    "        df.loc[i, \"Stock Price\"] = S*math.exp((R-.5*Sigma**2)*T+Sigma*math.sqrt(T)*norm.ppf(random()))\n",
    "        df.loc[i, \"Call\"] = max(df.loc[i, \"Stock Price\"]-K, 0)\n",
    "        df.loc[i, \"Put\"] = max(-df.loc[i, \"Stock Price\"]+K, 0)\n",
    "\n",
    "    # Valuing Options by Discounting Average Payoff\n",
    "    call = mean(df.loc[:, \"Call\"])*math.exp(-R*T)\n",
    "    put = mean(df.loc[:, \"Put\"])*math.exp(-R*T)\n",
    "\n",
    "    # Logic Operator Giving Desired Result\n",
    "    if Type == \"Call\":\n",
    "        return print(call)\n",
    "    elif Type == \"Put\": \n",
    "        return print(put)\n"
   ]
  }
 ],
 "metadata": {
  "kernelspec": {
   "display_name": "base",
   "language": "python",
   "name": "python3"
  },
  "language_info": {
   "codemirror_mode": {
    "name": "ipython",
    "version": 3
   },
   "file_extension": ".py",
   "mimetype": "text/x-python",
   "name": "python",
   "nbconvert_exporter": "python",
   "pygments_lexer": "ipython3",
   "version": "3.11.4"
  }
 },
 "nbformat": 4,
 "nbformat_minor": 2
}
